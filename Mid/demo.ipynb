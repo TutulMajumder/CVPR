{
 "cells": [
  {
   "cell_type": "code",
   "execution_count": 15,
   "id": "99b65f88",
   "metadata": {},
   "outputs": [],
   "source": [
    "import cv2\n",
    "import numpy as np\n",
    "from tensorflow.keras.models import load_model\n",
    "from collections import deque"
   ]
  },
  {
   "cell_type": "code",
   "execution_count": 16,
   "id": "d3fea1e3",
   "metadata": {},
   "outputs": [],
   "source": [
    "model = load_model('mnist_model.keras')"
   ]
  },
  {
   "cell_type": "code",
   "execution_count": 17,
   "id": "cd0a306e",
   "metadata": {},
   "outputs": [],
   "source": [
    "cap = cv2.VideoCapture(0 + cv2.CAP_DSHOW)"
   ]
  },
  {
   "cell_type": "code",
   "execution_count": null,
   "id": "d5b9f836",
   "metadata": {},
   "outputs": [],
   "source": [
    "\n",
    "\n",
    "\n",
    "def to_model_shape(x28):\n",
    "    x28 = x28.astype(\"float32\")/255.0\n",
    "    in_shape = model.input_shape  # e.g. (None,784) or (None,28,28,1)\n",
    "    if len(in_shape) == 2 and in_shape[1] == 784:\n",
    "        return x28.reshape(1, 784)\n",
    "    return x28.reshape(1, 28, 28, 1)\n",
    "\n"
   ]
  },
  {
   "cell_type": "code",
   "execution_count": 19,
   "id": "cf186bfc",
   "metadata": {},
   "outputs": [],
   "source": [
    "def preprocess_mnist(roi_bgr):\n",
    "    g = cv2.cvtColor(roi_bgr, cv2.COLOR_BGR2GRAY)\n",
    "    g = cv2.GaussianBlur(g, (5,5), 0)\n",
    "    th = cv2.adaptiveThreshold(g, 255, cv2.ADAPTIVE_THRESH_GAUSSIAN_C,\n",
    "                               cv2.THRESH_BINARY_INV, 11, 2)\n",
    "\n",
    "    cnts, _ = cv2.findContours(th, cv2.RETR_EXTERNAL, cv2.CHAIN_APPROX_SIMPLE)\n",
    "    if not cnts:\n",
    "        return None, {\"reason\":\"no contour\"}\n",
    "\n",
    "    c = max(cnts, key=cv2.contourArea)\n",
    "    x,y,w,h = cv2.boundingRect(c)\n",
    "    if w*h < 300:   # reject tiny blobs (tune as needed)\n",
    "        return None, {\"reason\":\"tiny area\"}\n",
    "\n",
    "    digit = th[y:y+h, x:x+w]\n",
    "    digit = cv2.dilate(digit, np.ones((3,3), np.uint8), iterations=1)\n",
    "\n",
    "    # keep aspect: resize longer side to 20\n",
    "    H, W = digit.shape\n",
    "    if H > W:\n",
    "        newH, newW = 20, max(1, int(W * (20.0/H)))\n",
    "    else:\n",
    "        newW, newH = 20, max(1, int(H * (20.0/W)))\n",
    "    digit = cv2.resize(digit, (newW, newH), interpolation=cv2.INTER_AREA)\n",
    "\n",
    "    canvas = np.zeros((28,28), dtype=np.uint8)\n",
    "    x0, y0 = (28-newW)//2, (28-newH)//2\n",
    "    canvas[y0:y0+newH, x0:x0+newW] = digit\n",
    "\n",
    "    ys, xs = np.nonzero(canvas)\n",
    "    if len(xs):\n",
    "        cx, cy = xs.mean(), ys.mean()\n",
    "        sx, sy = int(round(14 - cx)), int(round(14 - cy))\n",
    "        M = np.float32([[1,0,sx],[0,1,sy]])\n",
    "        canvas = cv2.warpAffine(canvas, M, (28,28), flags=cv2.INTER_NEAREST, borderValue=0)\n",
    "\n",
    "    return canvas, {\"area\": w*h}\n",
    "\n"
   ]
  },
  {
   "cell_type": "code",
   "execution_count": 20,
   "id": "4f17a1cf",
   "metadata": {},
   "outputs": [],
   "source": [
    "# --- drawing ROI in the center ---\n",
    "history = deque(maxlen=7)    # smoothing window\n",
    "CONF = 0.55\n",
    "\n",
    "while True:\n",
    "    ok, frame = cap.read()\n",
    "    if not ok: break\n",
    "    H, W = frame.shape[:2]\n",
    "    bw, bh = 160, 160\n",
    "    x1, y1 = max(0, W//2 - bw//2), max(0, H//2 - bh//2)\n",
    "    x2, y2 = min(W, W//2 + bw//2), min(H, H//2 + bh//2)\n",
    "    roi = frame[y1:y2, x1:x2]\n",
    "\n",
    "    x28, info = preprocess_mnist(roi)\n",
    "    disp = frame.copy()\n",
    "    color = (0,255,0) if x28 is not None else (0,0,255)\n",
    "    cv2.rectangle(disp, (x1,y1), (x2,y2), color, 2)\n",
    "\n",
    "    text = \"No digit\"\n",
    "    if x28 is not None:\n",
    "        inp = to_model_shape(x28)\n",
    "        preds = model.predict(inp, verbose=0)[0]\n",
    "        cls = int(np.argmax(preds))\n",
    "        prob = float(np.max(preds))\n",
    "        history.append((cls, prob))\n",
    "\n",
    "        # smooth: pick the most frequent class among confident frames\n",
    "        votes = [c for c,p in history if p >= CONF]\n",
    "        if votes:\n",
    "            from statistics import mode\n",
    "            cls_sm = mode(votes)\n",
    "            prob_sm = max(p for c,p in history if c == cls_sm)\n",
    "            text = f\"Pred: {cls_sm}  Prob: {prob_sm:.2f}\"\n",
    "        else:\n",
    "            text = f\"Pred: ?  Prob: {prob:.2f}\"\n",
    "\n",
    "        # debug view\n",
    "        view = cv2.resize(x28, (140,140), interpolation=cv2.INTER_NEAREST)\n",
    "        cv2.imshow(\"digit28\", view)\n",
    "\n",
    "    cv2.putText(disp, text, (20, 40), cv2.FONT_HERSHEY_SIMPLEX, 0.9, (255,0,255), 2)\n",
    "    cv2.imshow(\"input\", disp)\n",
    "\n",
    "    if cv2.waitKey(1) & 0xFF == 27: break\n",
    "\n",
    "cap.release()\n",
    "cv2.destroyAllWindows()"
   ]
  }
 ],
 "metadata": {
  "kernelspec": {
   "display_name": "menv",
   "language": "python",
   "name": "python3"
  },
  "language_info": {
   "codemirror_mode": {
    "name": "ipython",
    "version": 3
   },
   "file_extension": ".py",
   "mimetype": "text/x-python",
   "name": "python",
   "nbconvert_exporter": "python",
   "pygments_lexer": "ipython3",
   "version": "3.12.5"
  }
 },
 "nbformat": 4,
 "nbformat_minor": 5
}
